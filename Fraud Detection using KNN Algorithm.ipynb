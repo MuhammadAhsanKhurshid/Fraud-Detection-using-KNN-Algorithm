{
 "cells": [
  {
   "cell_type": "code",
   "execution_count": 1,
   "id": "39792059",
   "metadata": {},
   "outputs": [],
   "source": [
    "# lets import the important libraries\n",
    "import pandas as pd\n",
    "import numpy as np\n",
    "import seaborn as sns\n",
    "import matplotlib.pyplot as plt\n",
    "import math"
   ]
  },
  {
   "cell_type": "code",
   "execution_count": 2,
   "id": "d47d38bb",
   "metadata": {},
   "outputs": [
    {
     "data": {
      "text/html": [
       "<div>\n",
       "<style scoped>\n",
       "    .dataframe tbody tr th:only-of-type {\n",
       "        vertical-align: middle;\n",
       "    }\n",
       "\n",
       "    .dataframe tbody tr th {\n",
       "        vertical-align: top;\n",
       "    }\n",
       "\n",
       "    .dataframe thead th {\n",
       "        text-align: right;\n",
       "    }\n",
       "</style>\n",
       "<table border=\"1\" class=\"dataframe\">\n",
       "  <thead>\n",
       "    <tr style=\"text-align: right;\">\n",
       "      <th></th>\n",
       "      <th>distance_from_home</th>\n",
       "      <th>distance_from_last_transaction</th>\n",
       "      <th>ratio_to_median_purchase_price</th>\n",
       "      <th>repeat_retailer</th>\n",
       "      <th>used_chip</th>\n",
       "      <th>used_pin_number</th>\n",
       "      <th>online_order</th>\n",
       "      <th>fraud</th>\n",
       "    </tr>\n",
       "  </thead>\n",
       "  <tbody>\n",
       "    <tr>\n",
       "      <th>0</th>\n",
       "      <td>57.877857</td>\n",
       "      <td>0.311140</td>\n",
       "      <td>1.945940</td>\n",
       "      <td>1.0</td>\n",
       "      <td>1.0</td>\n",
       "      <td>0.0</td>\n",
       "      <td>0.0</td>\n",
       "      <td>0.0</td>\n",
       "    </tr>\n",
       "    <tr>\n",
       "      <th>1</th>\n",
       "      <td>10.829943</td>\n",
       "      <td>0.175592</td>\n",
       "      <td>1.294219</td>\n",
       "      <td>1.0</td>\n",
       "      <td>0.0</td>\n",
       "      <td>0.0</td>\n",
       "      <td>0.0</td>\n",
       "      <td>0.0</td>\n",
       "    </tr>\n",
       "    <tr>\n",
       "      <th>2</th>\n",
       "      <td>5.091079</td>\n",
       "      <td>0.805153</td>\n",
       "      <td>0.427715</td>\n",
       "      <td>1.0</td>\n",
       "      <td>0.0</td>\n",
       "      <td>0.0</td>\n",
       "      <td>1.0</td>\n",
       "      <td>0.0</td>\n",
       "    </tr>\n",
       "    <tr>\n",
       "      <th>3</th>\n",
       "      <td>2.247564</td>\n",
       "      <td>5.600044</td>\n",
       "      <td>0.362663</td>\n",
       "      <td>1.0</td>\n",
       "      <td>1.0</td>\n",
       "      <td>0.0</td>\n",
       "      <td>1.0</td>\n",
       "      <td>0.0</td>\n",
       "    </tr>\n",
       "    <tr>\n",
       "      <th>4</th>\n",
       "      <td>44.190936</td>\n",
       "      <td>0.566486</td>\n",
       "      <td>2.222767</td>\n",
       "      <td>1.0</td>\n",
       "      <td>1.0</td>\n",
       "      <td>0.0</td>\n",
       "      <td>1.0</td>\n",
       "      <td>0.0</td>\n",
       "    </tr>\n",
       "    <tr>\n",
       "      <th>...</th>\n",
       "      <td>...</td>\n",
       "      <td>...</td>\n",
       "      <td>...</td>\n",
       "      <td>...</td>\n",
       "      <td>...</td>\n",
       "      <td>...</td>\n",
       "      <td>...</td>\n",
       "      <td>...</td>\n",
       "    </tr>\n",
       "    <tr>\n",
       "      <th>999995</th>\n",
       "      <td>2.207101</td>\n",
       "      <td>0.112651</td>\n",
       "      <td>1.626798</td>\n",
       "      <td>1.0</td>\n",
       "      <td>1.0</td>\n",
       "      <td>0.0</td>\n",
       "      <td>0.0</td>\n",
       "      <td>0.0</td>\n",
       "    </tr>\n",
       "    <tr>\n",
       "      <th>999996</th>\n",
       "      <td>19.872726</td>\n",
       "      <td>2.683904</td>\n",
       "      <td>2.778303</td>\n",
       "      <td>1.0</td>\n",
       "      <td>1.0</td>\n",
       "      <td>0.0</td>\n",
       "      <td>0.0</td>\n",
       "      <td>0.0</td>\n",
       "    </tr>\n",
       "    <tr>\n",
       "      <th>999997</th>\n",
       "      <td>2.914857</td>\n",
       "      <td>1.472687</td>\n",
       "      <td>0.218075</td>\n",
       "      <td>1.0</td>\n",
       "      <td>1.0</td>\n",
       "      <td>0.0</td>\n",
       "      <td>1.0</td>\n",
       "      <td>0.0</td>\n",
       "    </tr>\n",
       "    <tr>\n",
       "      <th>999998</th>\n",
       "      <td>4.258729</td>\n",
       "      <td>0.242023</td>\n",
       "      <td>0.475822</td>\n",
       "      <td>1.0</td>\n",
       "      <td>0.0</td>\n",
       "      <td>0.0</td>\n",
       "      <td>1.0</td>\n",
       "      <td>0.0</td>\n",
       "    </tr>\n",
       "    <tr>\n",
       "      <th>999999</th>\n",
       "      <td>58.108125</td>\n",
       "      <td>0.318110</td>\n",
       "      <td>0.386920</td>\n",
       "      <td>1.0</td>\n",
       "      <td>1.0</td>\n",
       "      <td>0.0</td>\n",
       "      <td>1.0</td>\n",
       "      <td>0.0</td>\n",
       "    </tr>\n",
       "  </tbody>\n",
       "</table>\n",
       "<p>1000000 rows × 8 columns</p>\n",
       "</div>"
      ],
      "text/plain": [
       "        distance_from_home  distance_from_last_transaction  \\\n",
       "0                57.877857                        0.311140   \n",
       "1                10.829943                        0.175592   \n",
       "2                 5.091079                        0.805153   \n",
       "3                 2.247564                        5.600044   \n",
       "4                44.190936                        0.566486   \n",
       "...                    ...                             ...   \n",
       "999995            2.207101                        0.112651   \n",
       "999996           19.872726                        2.683904   \n",
       "999997            2.914857                        1.472687   \n",
       "999998            4.258729                        0.242023   \n",
       "999999           58.108125                        0.318110   \n",
       "\n",
       "        ratio_to_median_purchase_price  repeat_retailer  used_chip  \\\n",
       "0                             1.945940              1.0        1.0   \n",
       "1                             1.294219              1.0        0.0   \n",
       "2                             0.427715              1.0        0.0   \n",
       "3                             0.362663              1.0        1.0   \n",
       "4                             2.222767              1.0        1.0   \n",
       "...                                ...              ...        ...   \n",
       "999995                        1.626798              1.0        1.0   \n",
       "999996                        2.778303              1.0        1.0   \n",
       "999997                        0.218075              1.0        1.0   \n",
       "999998                        0.475822              1.0        0.0   \n",
       "999999                        0.386920              1.0        1.0   \n",
       "\n",
       "        used_pin_number  online_order  fraud  \n",
       "0                   0.0           0.0    0.0  \n",
       "1                   0.0           0.0    0.0  \n",
       "2                   0.0           1.0    0.0  \n",
       "3                   0.0           1.0    0.0  \n",
       "4                   0.0           1.0    0.0  \n",
       "...                 ...           ...    ...  \n",
       "999995              0.0           0.0    0.0  \n",
       "999996              0.0           0.0    0.0  \n",
       "999997              0.0           1.0    0.0  \n",
       "999998              0.0           1.0    0.0  \n",
       "999999              0.0           1.0    0.0  \n",
       "\n",
       "[1000000 rows x 8 columns]"
      ]
     },
     "execution_count": 2,
     "metadata": {},
     "output_type": "execute_result"
    }
   ],
   "source": [
    "# lets import the dataset.\n",
    "\n",
    "data = pd.read_csv('C:/Users/GS/OneDrive/Desktop/Python/Project ( Linear and Logistic Regression)/Linear+Regression+and+Logistic+Regression+in+Python/Classification/dataset/card_transdata.csv')\n",
    "data"
   ]
  },
  {
   "cell_type": "code",
   "execution_count": 3,
   "id": "f7cf192c",
   "metadata": {},
   "outputs": [],
   "source": [
    "# check the data types\n",
    "data1 = data[0:100001]"
   ]
  },
  {
   "cell_type": "code",
   "execution_count": 4,
   "id": "29a95c24",
   "metadata": {},
   "outputs": [
    {
     "data": {
      "text/html": [
       "<div>\n",
       "<style scoped>\n",
       "    .dataframe tbody tr th:only-of-type {\n",
       "        vertical-align: middle;\n",
       "    }\n",
       "\n",
       "    .dataframe tbody tr th {\n",
       "        vertical-align: top;\n",
       "    }\n",
       "\n",
       "    .dataframe thead th {\n",
       "        text-align: right;\n",
       "    }\n",
       "</style>\n",
       "<table border=\"1\" class=\"dataframe\">\n",
       "  <thead>\n",
       "    <tr style=\"text-align: right;\">\n",
       "      <th></th>\n",
       "      <th>distance_from_home</th>\n",
       "      <th>distance_from_last_transaction</th>\n",
       "      <th>ratio_to_median_purchase_price</th>\n",
       "      <th>repeat_retailer</th>\n",
       "      <th>used_chip</th>\n",
       "      <th>used_pin_number</th>\n",
       "      <th>online_order</th>\n",
       "      <th>fraud</th>\n",
       "    </tr>\n",
       "  </thead>\n",
       "  <tbody>\n",
       "    <tr>\n",
       "      <th>0</th>\n",
       "      <td>57.877857</td>\n",
       "      <td>0.311140</td>\n",
       "      <td>1.945940</td>\n",
       "      <td>1.0</td>\n",
       "      <td>1.0</td>\n",
       "      <td>0.0</td>\n",
       "      <td>0.0</td>\n",
       "      <td>0.0</td>\n",
       "    </tr>\n",
       "    <tr>\n",
       "      <th>1</th>\n",
       "      <td>10.829943</td>\n",
       "      <td>0.175592</td>\n",
       "      <td>1.294219</td>\n",
       "      <td>1.0</td>\n",
       "      <td>0.0</td>\n",
       "      <td>0.0</td>\n",
       "      <td>0.0</td>\n",
       "      <td>0.0</td>\n",
       "    </tr>\n",
       "    <tr>\n",
       "      <th>2</th>\n",
       "      <td>5.091079</td>\n",
       "      <td>0.805153</td>\n",
       "      <td>0.427715</td>\n",
       "      <td>1.0</td>\n",
       "      <td>0.0</td>\n",
       "      <td>0.0</td>\n",
       "      <td>1.0</td>\n",
       "      <td>0.0</td>\n",
       "    </tr>\n",
       "    <tr>\n",
       "      <th>3</th>\n",
       "      <td>2.247564</td>\n",
       "      <td>5.600044</td>\n",
       "      <td>0.362663</td>\n",
       "      <td>1.0</td>\n",
       "      <td>1.0</td>\n",
       "      <td>0.0</td>\n",
       "      <td>1.0</td>\n",
       "      <td>0.0</td>\n",
       "    </tr>\n",
       "    <tr>\n",
       "      <th>4</th>\n",
       "      <td>44.190936</td>\n",
       "      <td>0.566486</td>\n",
       "      <td>2.222767</td>\n",
       "      <td>1.0</td>\n",
       "      <td>1.0</td>\n",
       "      <td>0.0</td>\n",
       "      <td>1.0</td>\n",
       "      <td>0.0</td>\n",
       "    </tr>\n",
       "    <tr>\n",
       "      <th>...</th>\n",
       "      <td>...</td>\n",
       "      <td>...</td>\n",
       "      <td>...</td>\n",
       "      <td>...</td>\n",
       "      <td>...</td>\n",
       "      <td>...</td>\n",
       "      <td>...</td>\n",
       "      <td>...</td>\n",
       "    </tr>\n",
       "    <tr>\n",
       "      <th>99996</th>\n",
       "      <td>16.908113</td>\n",
       "      <td>9.274847</td>\n",
       "      <td>0.251770</td>\n",
       "      <td>1.0</td>\n",
       "      <td>1.0</td>\n",
       "      <td>0.0</td>\n",
       "      <td>1.0</td>\n",
       "      <td>0.0</td>\n",
       "    </tr>\n",
       "    <tr>\n",
       "      <th>99997</th>\n",
       "      <td>6.195276</td>\n",
       "      <td>2.373588</td>\n",
       "      <td>9.652850</td>\n",
       "      <td>1.0</td>\n",
       "      <td>0.0</td>\n",
       "      <td>0.0</td>\n",
       "      <td>1.0</td>\n",
       "      <td>1.0</td>\n",
       "    </tr>\n",
       "    <tr>\n",
       "      <th>99998</th>\n",
       "      <td>43.637384</td>\n",
       "      <td>10.873590</td>\n",
       "      <td>4.108374</td>\n",
       "      <td>1.0</td>\n",
       "      <td>0.0</td>\n",
       "      <td>0.0</td>\n",
       "      <td>1.0</td>\n",
       "      <td>1.0</td>\n",
       "    </tr>\n",
       "    <tr>\n",
       "      <th>99999</th>\n",
       "      <td>9.310937</td>\n",
       "      <td>0.034799</td>\n",
       "      <td>0.489110</td>\n",
       "      <td>1.0</td>\n",
       "      <td>0.0</td>\n",
       "      <td>0.0</td>\n",
       "      <td>1.0</td>\n",
       "      <td>0.0</td>\n",
       "    </tr>\n",
       "    <tr>\n",
       "      <th>100000</th>\n",
       "      <td>24.357036</td>\n",
       "      <td>1.431906</td>\n",
       "      <td>1.828736</td>\n",
       "      <td>1.0</td>\n",
       "      <td>1.0</td>\n",
       "      <td>0.0</td>\n",
       "      <td>1.0</td>\n",
       "      <td>0.0</td>\n",
       "    </tr>\n",
       "  </tbody>\n",
       "</table>\n",
       "<p>100001 rows × 8 columns</p>\n",
       "</div>"
      ],
      "text/plain": [
       "        distance_from_home  distance_from_last_transaction  \\\n",
       "0                57.877857                        0.311140   \n",
       "1                10.829943                        0.175592   \n",
       "2                 5.091079                        0.805153   \n",
       "3                 2.247564                        5.600044   \n",
       "4                44.190936                        0.566486   \n",
       "...                    ...                             ...   \n",
       "99996            16.908113                        9.274847   \n",
       "99997             6.195276                        2.373588   \n",
       "99998            43.637384                       10.873590   \n",
       "99999             9.310937                        0.034799   \n",
       "100000           24.357036                        1.431906   \n",
       "\n",
       "        ratio_to_median_purchase_price  repeat_retailer  used_chip  \\\n",
       "0                             1.945940              1.0        1.0   \n",
       "1                             1.294219              1.0        0.0   \n",
       "2                             0.427715              1.0        0.0   \n",
       "3                             0.362663              1.0        1.0   \n",
       "4                             2.222767              1.0        1.0   \n",
       "...                                ...              ...        ...   \n",
       "99996                         0.251770              1.0        1.0   \n",
       "99997                         9.652850              1.0        0.0   \n",
       "99998                         4.108374              1.0        0.0   \n",
       "99999                         0.489110              1.0        0.0   \n",
       "100000                        1.828736              1.0        1.0   \n",
       "\n",
       "        used_pin_number  online_order  fraud  \n",
       "0                   0.0           0.0    0.0  \n",
       "1                   0.0           0.0    0.0  \n",
       "2                   0.0           1.0    0.0  \n",
       "3                   0.0           1.0    0.0  \n",
       "4                   0.0           1.0    0.0  \n",
       "...                 ...           ...    ...  \n",
       "99996               0.0           1.0    0.0  \n",
       "99997               0.0           1.0    1.0  \n",
       "99998               0.0           1.0    1.0  \n",
       "99999               0.0           1.0    0.0  \n",
       "100000              0.0           1.0    0.0  \n",
       "\n",
       "[100001 rows x 8 columns]"
      ]
     },
     "execution_count": 4,
     "metadata": {},
     "output_type": "execute_result"
    }
   ],
   "source": [
    "data1"
   ]
  },
  {
   "cell_type": "code",
   "execution_count": 5,
   "id": "4dc93b4b",
   "metadata": {},
   "outputs": [
    {
     "data": {
      "text/plain": [
       "distance_from_home                0\n",
       "distance_from_last_transaction    0\n",
       "ratio_to_median_purchase_price    0\n",
       "repeat_retailer                   0\n",
       "used_chip                         0\n",
       "used_pin_number                   0\n",
       "online_order                      0\n",
       "fraud                             0\n",
       "dtype: int64"
      ]
     },
     "execution_count": 5,
     "metadata": {},
     "output_type": "execute_result"
    }
   ],
   "source": [
    "# lets check the missing values\n",
    "data1.isna().sum()"
   ]
  },
  {
   "cell_type": "code",
   "execution_count": 6,
   "id": "0fa96841",
   "metadata": {},
   "outputs": [
    {
     "data": {
      "text/plain": [
       "array([0., 1.])"
      ]
     },
     "execution_count": 6,
     "metadata": {},
     "output_type": "execute_result"
    }
   ],
   "source": [
    "# lets check the categorical column's values\n",
    "\n",
    "data1['fraud'].unique()\n"
   ]
  },
  {
   "cell_type": "code",
   "execution_count": 7,
   "id": "6572f445",
   "metadata": {},
   "outputs": [],
   "source": [
    "# So this data is about fraudulent credit cards in 2013 at Europe\n",
    "\n",
    "# 1 define that fraud activity occurred.\n",
    "# 0 define no such activity occurred.\n",
    "\n",
    "\n"
   ]
  },
  {
   "cell_type": "code",
   "execution_count": 46,
   "id": "e00d3266",
   "metadata": {},
   "outputs": [
    {
     "data": {
      "text/plain": [
       "8710"
      ]
     },
     "execution_count": 46,
     "metadata": {},
     "output_type": "execute_result"
    }
   ],
   "source": [
    "Fraud = data1['fraud'][data1['fraud']==1].count()\n",
    "Fraud"
   ]
  },
  {
   "cell_type": "code",
   "execution_count": 47,
   "id": "5bf423dd",
   "metadata": {},
   "outputs": [
    {
     "data": {
      "text/plain": [
       "91291"
      ]
     },
     "execution_count": 47,
     "metadata": {},
     "output_type": "execute_result"
    }
   ],
   "source": [
    "Non_Fraud = data1['fraud'][data1['fraud']==0].count()\n",
    "Non_Fraud"
   ]
  },
  {
   "cell_type": "code",
   "execution_count": 48,
   "id": "68bd0664",
   "metadata": {},
   "outputs": [],
   "source": [
    "total = Fraud + Non_Fraud"
   ]
  },
  {
   "cell_type": "code",
   "execution_count": 49,
   "id": "b5ae0c0f",
   "metadata": {},
   "outputs": [
    {
     "data": {
      "text/plain": [
       "100001"
      ]
     },
     "execution_count": 49,
     "metadata": {},
     "output_type": "execute_result"
    }
   ],
   "source": [
    "total"
   ]
  },
  {
   "cell_type": "code",
   "execution_count": 53,
   "id": "52c8bf0e",
   "metadata": {},
   "outputs": [
    {
     "name": "stdout",
     "output_type": "stream",
     "text": [
      "Total Non Fraud proportion is 91.29008709912901 %  and Total Non Fraud proportion is 8.709912900870991 %\n"
     ]
    }
   ],
   "source": [
    "print(f\"Total Non Fraud proportion is {Non_Fraud*100/(total)} %\",\n",
    "     f\" and Total Non Fraud proportion is {Fraud*100/(total)} %\")"
   ]
  },
  {
   "cell_type": "code",
   "execution_count": 58,
   "id": "32262fc5",
   "metadata": {},
   "outputs": [
    {
     "data": {
      "text/plain": [
       "([<matplotlib.axis.XTick at 0x20d9a2918d0>,\n",
       "  <matplotlib.axis.XTick at 0x20d9a34d8d0>],\n",
       " [Text(0, 0, 'nonfraud'), Text(1, 0, 'fraud')])"
      ]
     },
     "execution_count": 58,
     "metadata": {},
     "output_type": "execute_result"
    },
    {
     "data": {
      "image/png": "[encoded data removed]",
      "text/plain": [
       "<Figure size 640x480 with 1 Axes>"
      ]
     },
     "metadata": {},
     "output_type": "display_data"
    }
   ],
   "source": [
    "# lets ploton  \n",
    "\n",
    "label = ['nonfraud','fraud']\n",
    "classes = pd.value_counts(data['fraud'],sort = True)\n",
    "classes.plot(kind = 'bar')\n",
    "plt.xlabel('Class')\n",
    "plt.xticks(range(2),label)"
   ]
  },
  {
   "cell_type": "code",
   "execution_count": 67,
   "id": "aac5b039",
   "metadata": {},
   "outputs": [
    {
     "data": {
      "text/html": [
       "<div>\n",
       "<style scoped>\n",
       "    .dataframe tbody tr th:only-of-type {\n",
       "        vertical-align: middle;\n",
       "    }\n",
       "\n",
       "    .dataframe tbody tr th {\n",
       "        vertical-align: top;\n",
       "    }\n",
       "\n",
       "    .dataframe thead th {\n",
       "        text-align: right;\n",
       "    }\n",
       "</style>\n",
       "<table border=\"1\" class=\"dataframe\">\n",
       "  <thead>\n",
       "    <tr style=\"text-align: right;\">\n",
       "      <th></th>\n",
       "      <th>distance_from_home</th>\n",
       "      <th>distance_from_last_transaction</th>\n",
       "      <th>ratio_to_median_purchase_price</th>\n",
       "      <th>repeat_retailer</th>\n",
       "      <th>used_chip</th>\n",
       "      <th>used_pin_number</th>\n",
       "      <th>online_order</th>\n",
       "      <th>fraud</th>\n",
       "    </tr>\n",
       "  </thead>\n",
       "  <tbody>\n",
       "    <tr>\n",
       "      <th>count</th>\n",
       "      <td>100001.000000</td>\n",
       "      <td>100001.000000</td>\n",
       "      <td>100001.000000</td>\n",
       "      <td>100001.000000</td>\n",
       "      <td>100001.000000</td>\n",
       "      <td>100001.000000</td>\n",
       "      <td>100001.000000</td>\n",
       "      <td>100001.000000</td>\n",
       "    </tr>\n",
       "    <tr>\n",
       "      <th>mean</th>\n",
       "      <td>26.688463</td>\n",
       "      <td>5.023680</td>\n",
       "      <td>1.819374</td>\n",
       "      <td>0.882091</td>\n",
       "      <td>0.351066</td>\n",
       "      <td>0.103249</td>\n",
       "      <td>0.650663</td>\n",
       "      <td>0.087099</td>\n",
       "    </tr>\n",
       "    <tr>\n",
       "      <th>std</th>\n",
       "      <td>65.131753</td>\n",
       "      <td>24.439300</td>\n",
       "      <td>2.912835</td>\n",
       "      <td>0.322502</td>\n",
       "      <td>0.477306</td>\n",
       "      <td>0.304285</td>\n",
       "      <td>0.476763</td>\n",
       "      <td>0.281982</td>\n",
       "    </tr>\n",
       "    <tr>\n",
       "      <th>min</th>\n",
       "      <td>0.021322</td>\n",
       "      <td>0.000488</td>\n",
       "      <td>0.011373</td>\n",
       "      <td>0.000000</td>\n",
       "      <td>0.000000</td>\n",
       "      <td>0.000000</td>\n",
       "      <td>0.000000</td>\n",
       "      <td>0.000000</td>\n",
       "    </tr>\n",
       "    <tr>\n",
       "      <th>25%</th>\n",
       "      <td>3.864929</td>\n",
       "      <td>0.295818</td>\n",
       "      <td>0.476396</td>\n",
       "      <td>1.000000</td>\n",
       "      <td>0.000000</td>\n",
       "      <td>0.000000</td>\n",
       "      <td>0.000000</td>\n",
       "      <td>0.000000</td>\n",
       "    </tr>\n",
       "    <tr>\n",
       "      <th>50%</th>\n",
       "      <td>9.965336</td>\n",
       "      <td>0.996720</td>\n",
       "      <td>0.996102</td>\n",
       "      <td>1.000000</td>\n",
       "      <td>0.000000</td>\n",
       "      <td>0.000000</td>\n",
       "      <td>1.000000</td>\n",
       "      <td>0.000000</td>\n",
       "    </tr>\n",
       "    <tr>\n",
       "      <th>75%</th>\n",
       "      <td>25.724613</td>\n",
       "      <td>3.333011</td>\n",
       "      <td>2.088998</td>\n",
       "      <td>1.000000</td>\n",
       "      <td>1.000000</td>\n",
       "      <td>0.000000</td>\n",
       "      <td>1.000000</td>\n",
       "      <td>0.000000</td>\n",
       "    </tr>\n",
       "    <tr>\n",
       "      <th>max</th>\n",
       "      <td>4601.011222</td>\n",
       "      <td>2160.499922</td>\n",
       "      <td>266.689692</td>\n",
       "      <td>1.000000</td>\n",
       "      <td>1.000000</td>\n",
       "      <td>1.000000</td>\n",
       "      <td>1.000000</td>\n",
       "      <td>1.000000</td>\n",
       "    </tr>\n",
       "  </tbody>\n",
       "</table>\n",
       "</div>"
      ],
      "text/plain": [
       "       distance_from_home  distance_from_last_transaction  \\\n",
       "count       100001.000000                   100001.000000   \n",
       "mean            26.688463                        5.023680   \n",
       "std             65.131753                       24.439300   \n",
       "min              0.021322                        0.000488   \n",
       "25%              3.864929                        0.295818   \n",
       "50%              9.965336                        0.996720   \n",
       "75%             25.724613                        3.333011   \n",
       "max           4601.011222                     2160.499922   \n",
       "\n",
       "       ratio_to_median_purchase_price  repeat_retailer      used_chip  \\\n",
       "count                   100001.000000    100001.000000  100001.000000   \n",
       "mean                         1.819374         0.882091       0.351066   \n",
       "std                          2.912835         0.322502       0.477306   \n",
       "min                          0.011373         0.000000       0.000000   \n",
       "25%                          0.476396         1.000000       0.000000   \n",
       "50%                          0.996102         1.000000       0.000000   \n",
       "75%                          2.088998         1.000000       1.000000   \n",
       "max                        266.689692         1.000000       1.000000   \n",
       "\n",
       "       used_pin_number   online_order          fraud  \n",
       "count    100001.000000  100001.000000  100001.000000  \n",
       "mean          0.103249       0.650663       0.087099  \n",
       "std           0.304285       0.476763       0.281982  \n",
       "min           0.000000       0.000000       0.000000  \n",
       "25%           0.000000       0.000000       0.000000  \n",
       "50%           0.000000       1.000000       0.000000  \n",
       "75%           0.000000       1.000000       0.000000  \n",
       "max           1.000000       1.000000       1.000000  "
      ]
     },
     "execution_count": 67,
     "metadata": {},
     "output_type": "execute_result"
    }
   ],
   "source": [
    "# lets explore the descriptive statisitcs\n",
    "\n",
    "data1.describe()"
   ]
  },
  {
   "cell_type": "code",
   "execution_count": 68,
   "id": "a7371759",
   "metadata": {},
   "outputs": [
    {
     "data": {
      "text/plain": [
       "repeat_retailer\n",
       "1.0    88210\n",
       "0.0    11791\n",
       "Name: count, dtype: int64"
      ]
     },
     "execution_count": 68,
     "metadata": {},
     "output_type": "execute_result"
    }
   ],
   "source": [
    "data1['repeat_retailer'].value_counts()"
   ]
  },
  {
   "cell_type": "code",
   "execution_count": 69,
   "id": "e293cddf",
   "metadata": {},
   "outputs": [
    {
     "data": {
      "text/plain": [
       "used_chip\n",
       "0.0    64894\n",
       "1.0    35107\n",
       "Name: count, dtype: int64"
      ]
     },
     "execution_count": 69,
     "metadata": {},
     "output_type": "execute_result"
    }
   ],
   "source": [
    "data1['used_chip'].value_counts()"
   ]
  },
  {
   "cell_type": "code",
   "execution_count": 70,
   "id": "8f4ae81c",
   "metadata": {},
   "outputs": [
    {
     "data": {
      "text/plain": [
       "used_pin_number\n",
       "0.0    89676\n",
       "1.0    10325\n",
       "Name: count, dtype: int64"
      ]
     },
     "execution_count": 70,
     "metadata": {},
     "output_type": "execute_result"
    }
   ],
   "source": [
    "data1['used_pin_number'].value_counts()"
   ]
  },
  {
   "cell_type": "code",
   "execution_count": 71,
   "id": "2acece84",
   "metadata": {},
   "outputs": [
    {
     "data": {
      "text/plain": [
       "online_order\n",
       "1.0    65067\n",
       "0.0    34934\n",
       "Name: count, dtype: int64"
      ]
     },
     "execution_count": 71,
     "metadata": {},
     "output_type": "execute_result"
    }
   ],
   "source": [
    "data1['online_order'].value_counts()"
   ]
  },
  {
   "cell_type": "code",
   "execution_count": 72,
   "id": "b29e6b84",
   "metadata": {},
   "outputs": [
    {
     "data": {
      "text/plain": [
       "fraud\n",
       "0.0    91291\n",
       "1.0     8710\n",
       "Name: count, dtype: int64"
      ]
     },
     "execution_count": 72,
     "metadata": {},
     "output_type": "execute_result"
    }
   ],
   "source": [
    "data1['fraud'].value_counts()"
   ]
  },
  {
   "cell_type": "code",
   "execution_count": 74,
   "id": "bc0ae3b4",
   "metadata": {},
   "outputs": [
    {
     "data": {
      "text/plain": [
       "<Axes: xlabel='distance_from_home', ylabel='Count'>"
      ]
     },
     "execution_count": 74,
     "metadata": {},
     "output_type": "execute_result"
    },
    {
     "data": {
      "image/png": "[encoded data removed]",
      "text/plain": [
       "<Figure size 640x480 with 1 Axes>"
      ]
     },
     "metadata": {},
     "output_type": "display_data"
    }
   ],
   "source": [
    "\n",
    "sns.histplot(x = data1['distance_from_home'])\n"
   ]
  },
  {
   "cell_type": "code",
   "execution_count": 89,
   "id": "4add475d",
   "metadata": {},
   "outputs": [
    {
     "data": {
      "text/plain": [
       "263.5532845659583"
      ]
     },
     "execution_count": 89,
     "metadata": {},
     "output_type": "execute_result"
    }
   ],
   "source": [
    "up= np.percentile(data1['distance_from_home'],[99])[0]\n",
    "up"
   ]
  },
  {
   "cell_type": "code",
   "execution_count": 90,
   "id": "242484a8",
   "metadata": {},
   "outputs": [
    {
     "name": "stderr",
     "output_type": "stream",
     "text": [
      "C:\\Users\\GS\\AppData\\Local\\Temp\\ipykernel_2304\\1603438353.py:1: UserWarning: Boolean Series key will be reindexed to match DataFrame index.\n",
      "  data1[data['distance_from_home']>up]\n"
     ]
    },
    {
     "data": {
      "text/html": [
       "<div>\n",
       "<style scoped>\n",
       "    .dataframe tbody tr th:only-of-type {\n",
       "        vertical-align: middle;\n",
       "    }\n",
       "\n",
       "    .dataframe tbody tr th {\n",
       "        vertical-align: top;\n",
       "    }\n",
       "\n",
       "    .dataframe thead th {\n",
       "        text-align: right;\n",
       "    }\n",
       "</style>\n",
       "<table border=\"1\" class=\"dataframe\">\n",
       "  <thead>\n",
       "    <tr style=\"text-align: right;\">\n",
       "      <th></th>\n",
       "      <th>distance_from_home</th>\n",
       "      <th>distance_from_last_transaction</th>\n",
       "      <th>ratio_to_median_purchase_price</th>\n",
       "      <th>repeat_retailer</th>\n",
       "      <th>used_chip</th>\n",
       "      <th>used_pin_number</th>\n",
       "      <th>online_order</th>\n",
       "      <th>fraud</th>\n",
       "    </tr>\n",
       "  </thead>\n",
       "  <tbody>\n",
       "    <tr>\n",
       "      <th>12</th>\n",
       "      <td>765.282559</td>\n",
       "      <td>0.371562</td>\n",
       "      <td>0.551245</td>\n",
       "      <td>1.0</td>\n",
       "      <td>1.0</td>\n",
       "      <td>0.0</td>\n",
       "      <td>0.0</td>\n",
       "      <td>0.0</td>\n",
       "    </tr>\n",
       "    <tr>\n",
       "      <th>112</th>\n",
       "      <td>335.189320</td>\n",
       "      <td>1.114168</td>\n",
       "      <td>0.098243</td>\n",
       "      <td>1.0</td>\n",
       "      <td>0.0</td>\n",
       "      <td>0.0</td>\n",
       "      <td>1.0</td>\n",
       "      <td>1.0</td>\n",
       "    </tr>\n",
       "    <tr>\n",
       "      <th>261</th>\n",
       "      <td>601.522919</td>\n",
       "      <td>0.028723</td>\n",
       "      <td>0.859779</td>\n",
       "      <td>1.0</td>\n",
       "      <td>0.0</td>\n",
       "      <td>0.0</td>\n",
       "      <td>1.0</td>\n",
       "      <td>1.0</td>\n",
       "    </tr>\n",
       "    <tr>\n",
       "      <th>393</th>\n",
       "      <td>386.095254</td>\n",
       "      <td>5.367957</td>\n",
       "      <td>1.615735</td>\n",
       "      <td>1.0</td>\n",
       "      <td>0.0</td>\n",
       "      <td>0.0</td>\n",
       "      <td>1.0</td>\n",
       "      <td>1.0</td>\n",
       "    </tr>\n",
       "    <tr>\n",
       "      <th>412</th>\n",
       "      <td>965.910612</td>\n",
       "      <td>0.023604</td>\n",
       "      <td>0.257908</td>\n",
       "      <td>1.0</td>\n",
       "      <td>0.0</td>\n",
       "      <td>0.0</td>\n",
       "      <td>1.0</td>\n",
       "      <td>1.0</td>\n",
       "    </tr>\n",
       "    <tr>\n",
       "      <th>...</th>\n",
       "      <td>...</td>\n",
       "      <td>...</td>\n",
       "      <td>...</td>\n",
       "      <td>...</td>\n",
       "      <td>...</td>\n",
       "      <td>...</td>\n",
       "      <td>...</td>\n",
       "      <td>...</td>\n",
       "    </tr>\n",
       "    <tr>\n",
       "      <th>99471</th>\n",
       "      <td>404.128288</td>\n",
       "      <td>7.248917</td>\n",
       "      <td>0.269265</td>\n",
       "      <td>1.0</td>\n",
       "      <td>0.0</td>\n",
       "      <td>0.0</td>\n",
       "      <td>0.0</td>\n",
       "      <td>0.0</td>\n",
       "    </tr>\n",
       "    <tr>\n",
       "      <th>99578</th>\n",
       "      <td>317.156105</td>\n",
       "      <td>0.138331</td>\n",
       "      <td>2.270468</td>\n",
       "      <td>1.0</td>\n",
       "      <td>1.0</td>\n",
       "      <td>0.0</td>\n",
       "      <td>1.0</td>\n",
       "      <td>0.0</td>\n",
       "    </tr>\n",
       "    <tr>\n",
       "      <th>99637</th>\n",
       "      <td>301.400004</td>\n",
       "      <td>0.046748</td>\n",
       "      <td>4.904312</td>\n",
       "      <td>1.0</td>\n",
       "      <td>0.0</td>\n",
       "      <td>0.0</td>\n",
       "      <td>0.0</td>\n",
       "      <td>1.0</td>\n",
       "    </tr>\n",
       "    <tr>\n",
       "      <th>99849</th>\n",
       "      <td>433.658641</td>\n",
       "      <td>0.479514</td>\n",
       "      <td>1.721071</td>\n",
       "      <td>1.0</td>\n",
       "      <td>0.0</td>\n",
       "      <td>0.0</td>\n",
       "      <td>1.0</td>\n",
       "      <td>1.0</td>\n",
       "    </tr>\n",
       "    <tr>\n",
       "      <th>99947</th>\n",
       "      <td>481.744089</td>\n",
       "      <td>0.385726</td>\n",
       "      <td>3.884294</td>\n",
       "      <td>1.0</td>\n",
       "      <td>0.0</td>\n",
       "      <td>0.0</td>\n",
       "      <td>1.0</td>\n",
       "      <td>1.0</td>\n",
       "    </tr>\n",
       "  </tbody>\n",
       "</table>\n",
       "<p>1000 rows × 8 columns</p>\n",
       "</div>"
      ],
      "text/plain": [
       "       distance_from_home  distance_from_last_transaction  \\\n",
       "12             765.282559                        0.371562   \n",
       "112            335.189320                        1.114168   \n",
       "261            601.522919                        0.028723   \n",
       "393            386.095254                        5.367957   \n",
       "412            965.910612                        0.023604   \n",
       "...                   ...                             ...   \n",
       "99471          404.128288                        7.248917   \n",
       "99578          317.156105                        0.138331   \n",
       "99637          301.400004                        0.046748   \n",
       "99849          433.658641                        0.479514   \n",
       "99947          481.744089                        0.385726   \n",
       "\n",
       "       ratio_to_median_purchase_price  repeat_retailer  used_chip  \\\n",
       "12                           0.551245              1.0        1.0   \n",
       "112                          0.098243              1.0        0.0   \n",
       "261                          0.859779              1.0        0.0   \n",
       "393                          1.615735              1.0        0.0   \n",
       "412                          0.257908              1.0        0.0   \n",
       "...                               ...              ...        ...   \n",
       "99471                        0.269265              1.0        0.0   \n",
       "99578                        2.270468              1.0        1.0   \n",
       "99637                        4.904312              1.0        0.0   \n",
       "99849                        1.721071              1.0        0.0   \n",
       "99947                        3.884294              1.0        0.0   \n",
       "\n",
       "       used_pin_number  online_order  fraud  \n",
       "12                 0.0           0.0    0.0  \n",
       "112                0.0           1.0    1.0  \n",
       "261                0.0           1.0    1.0  \n",
       "393                0.0           1.0    1.0  \n",
       "412                0.0           1.0    1.0  \n",
       "...                ...           ...    ...  \n",
       "99471              0.0           0.0    0.0  \n",
       "99578              0.0           1.0    0.0  \n",
       "99637              0.0           0.0    1.0  \n",
       "99849              0.0           1.0    1.0  \n",
       "99947              0.0           1.0    1.0  \n",
       "\n",
       "[1000 rows x 8 columns]"
      ]
     },
     "execution_count": 90,
     "metadata": {},
     "output_type": "execute_result"
    }
   ],
   "source": [
    "data1[data['distance_from_home']>up]"
   ]
  },
  {
   "cell_type": "markdown",
   "id": "b9d3555d",
   "metadata": {},
   "source": [
    "### The distance is not a variable that shows the outliers easily, particularly in fraudulent activity like it is possible that the fraud happened at a highly distant place."
   ]
  },
  {
   "cell_type": "code",
   "execution_count": 59,
   "id": "f1172784",
   "metadata": {},
   "outputs": [],
   "source": [
    "import warnings\n",
    "warnings.filterwarnings('ignore')\n"
   ]
  },
  {
   "cell_type": "code",
   "execution_count": 60,
   "id": "48df2b38",
   "metadata": {},
   "outputs": [],
   "source": [
    "# lets do the standard scaling\n",
    "from sklearn.preprocessing import StandardScaler\n",
    "d = StandardScaler()\n",
    "data1['distance_from_home']= d.fit_transform(data1[['distance_from_home']])"
   ]
  },
  {
   "cell_type": "code",
   "execution_count": 61,
   "id": "b4bd0068",
   "metadata": {},
   "outputs": [],
   "source": [
    "data1['distance_from_last_transaction']= d.fit_transform(data1[['distance_from_last_transaction']])\n",
    "data1['ratio_to_median_purchase_price']= d.fit_transform(data1[['ratio_to_median_purchase_price']])"
   ]
  },
  {
   "cell_type": "code",
   "execution_count": 97,
   "id": "d8b0c967",
   "metadata": {},
   "outputs": [
    {
     "data": {
      "text/html": [
       "<div>\n",
       "<style scoped>\n",
       "    .dataframe tbody tr th:only-of-type {\n",
       "        vertical-align: middle;\n",
       "    }\n",
       "\n",
       "    .dataframe tbody tr th {\n",
       "        vertical-align: top;\n",
       "    }\n",
       "\n",
       "    .dataframe thead th {\n",
       "        text-align: right;\n",
       "    }\n",
       "</style>\n",
       "<table border=\"1\" class=\"dataframe\">\n",
       "  <thead>\n",
       "    <tr style=\"text-align: right;\">\n",
       "      <th></th>\n",
       "      <th>distance_from_home</th>\n",
       "      <th>distance_from_last_transaction</th>\n",
       "      <th>ratio_to_median_purchase_price</th>\n",
       "      <th>repeat_retailer</th>\n",
       "      <th>used_chip</th>\n",
       "      <th>used_pin_number</th>\n",
       "      <th>online_order</th>\n",
       "      <th>fraud</th>\n",
       "    </tr>\n",
       "  </thead>\n",
       "  <tbody>\n",
       "    <tr>\n",
       "      <th>0</th>\n",
       "      <td>0.478869</td>\n",
       "      <td>-0.192827</td>\n",
       "      <td>0.043451</td>\n",
       "      <td>1.0</td>\n",
       "      <td>1.0</td>\n",
       "      <td>0.0</td>\n",
       "      <td>0.0</td>\n",
       "      <td>0.0</td>\n",
       "    </tr>\n",
       "    <tr>\n",
       "      <th>1</th>\n",
       "      <td>-0.243485</td>\n",
       "      <td>-0.198374</td>\n",
       "      <td>-0.180291</td>\n",
       "      <td>1.0</td>\n",
       "      <td>0.0</td>\n",
       "      <td>0.0</td>\n",
       "      <td>0.0</td>\n",
       "      <td>0.0</td>\n",
       "    </tr>\n",
       "    <tr>\n",
       "      <th>2</th>\n",
       "      <td>-0.331597</td>\n",
       "      <td>-0.172613</td>\n",
       "      <td>-0.477770</td>\n",
       "      <td>1.0</td>\n",
       "      <td>0.0</td>\n",
       "      <td>0.0</td>\n",
       "      <td>1.0</td>\n",
       "      <td>0.0</td>\n",
       "    </tr>\n",
       "    <tr>\n",
       "      <th>3</th>\n",
       "      <td>-0.375255</td>\n",
       "      <td>0.023584</td>\n",
       "      <td>-0.500103</td>\n",
       "      <td>1.0</td>\n",
       "      <td>1.0</td>\n",
       "      <td>0.0</td>\n",
       "      <td>1.0</td>\n",
       "      <td>0.0</td>\n",
       "    </tr>\n",
       "    <tr>\n",
       "      <th>4</th>\n",
       "      <td>0.268725</td>\n",
       "      <td>-0.182379</td>\n",
       "      <td>0.138489</td>\n",
       "      <td>1.0</td>\n",
       "      <td>1.0</td>\n",
       "      <td>0.0</td>\n",
       "      <td>1.0</td>\n",
       "      <td>0.0</td>\n",
       "    </tr>\n",
       "    <tr>\n",
       "      <th>...</th>\n",
       "      <td>...</td>\n",
       "      <td>...</td>\n",
       "      <td>...</td>\n",
       "      <td>...</td>\n",
       "      <td>...</td>\n",
       "      <td>...</td>\n",
       "      <td>...</td>\n",
       "      <td>...</td>\n",
       "    </tr>\n",
       "    <tr>\n",
       "      <th>99996</th>\n",
       "      <td>-0.150163</td>\n",
       "      <td>0.173949</td>\n",
       "      <td>-0.538174</td>\n",
       "      <td>1.0</td>\n",
       "      <td>1.0</td>\n",
       "      <td>0.0</td>\n",
       "      <td>1.0</td>\n",
       "      <td>0.0</td>\n",
       "    </tr>\n",
       "    <tr>\n",
       "      <th>99997</th>\n",
       "      <td>-0.314644</td>\n",
       "      <td>-0.108436</td>\n",
       "      <td>2.689310</td>\n",
       "      <td>1.0</td>\n",
       "      <td>0.0</td>\n",
       "      <td>0.0</td>\n",
       "      <td>1.0</td>\n",
       "      <td>1.0</td>\n",
       "    </tr>\n",
       "    <tr>\n",
       "      <th>99998</th>\n",
       "      <td>0.260226</td>\n",
       "      <td>0.239366</td>\n",
       "      <td>0.785836</td>\n",
       "      <td>1.0</td>\n",
       "      <td>0.0</td>\n",
       "      <td>0.0</td>\n",
       "      <td>1.0</td>\n",
       "      <td>1.0</td>\n",
       "    </tr>\n",
       "    <tr>\n",
       "      <th>99999</th>\n",
       "      <td>-0.266807</td>\n",
       "      <td>-0.204135</td>\n",
       "      <td>-0.456693</td>\n",
       "      <td>1.0</td>\n",
       "      <td>0.0</td>\n",
       "      <td>0.0</td>\n",
       "      <td>1.0</td>\n",
       "      <td>0.0</td>\n",
       "    </tr>\n",
       "    <tr>\n",
       "      <th>100000</th>\n",
       "      <td>-0.035796</td>\n",
       "      <td>-0.146968</td>\n",
       "      <td>0.003214</td>\n",
       "      <td>1.0</td>\n",
       "      <td>1.0</td>\n",
       "      <td>0.0</td>\n",
       "      <td>1.0</td>\n",
       "      <td>0.0</td>\n",
       "    </tr>\n",
       "  </tbody>\n",
       "</table>\n",
       "<p>100001 rows × 8 columns</p>\n",
       "</div>"
      ],
      "text/plain": [
       "        distance_from_home  distance_from_last_transaction  \\\n",
       "0                 0.478869                       -0.192827   \n",
       "1                -0.243485                       -0.198374   \n",
       "2                -0.331597                       -0.172613   \n",
       "3                -0.375255                        0.023584   \n",
       "4                 0.268725                       -0.182379   \n",
       "...                    ...                             ...   \n",
       "99996            -0.150163                        0.173949   \n",
       "99997            -0.314644                       -0.108436   \n",
       "99998             0.260226                        0.239366   \n",
       "99999            -0.266807                       -0.204135   \n",
       "100000           -0.035796                       -0.146968   \n",
       "\n",
       "        ratio_to_median_purchase_price  repeat_retailer  used_chip  \\\n",
       "0                             0.043451              1.0        1.0   \n",
       "1                            -0.180291              1.0        0.0   \n",
       "2                            -0.477770              1.0        0.0   \n",
       "3                            -0.500103              1.0        1.0   \n",
       "4                             0.138489              1.0        1.0   \n",
       "...                                ...              ...        ...   \n",
       "99996                        -0.538174              1.0        1.0   \n",
       "99997                         2.689310              1.0        0.0   \n",
       "99998                         0.785836              1.0        0.0   \n",
       "99999                        -0.456693              1.0        0.0   \n",
       "100000                        0.003214              1.0        1.0   \n",
       "\n",
       "        used_pin_number  online_order  fraud  \n",
       "0                   0.0           0.0    0.0  \n",
       "1                   0.0           0.0    0.0  \n",
       "2                   0.0           1.0    0.0  \n",
       "3                   0.0           1.0    0.0  \n",
       "4                   0.0           1.0    0.0  \n",
       "...                 ...           ...    ...  \n",
       "99996               0.0           1.0    0.0  \n",
       "99997               0.0           1.0    1.0  \n",
       "99998               0.0           1.0    1.0  \n",
       "99999               0.0           1.0    0.0  \n",
       "100000              0.0           1.0    0.0  \n",
       "\n",
       "[100001 rows x 8 columns]"
      ]
     },
     "execution_count": 97,
     "metadata": {},
     "output_type": "execute_result"
    }
   ],
   "source": [
    "data1"
   ]
  },
  {
   "cell_type": "code",
   "execution_count": 98,
   "id": "eaba052f",
   "metadata": {},
   "outputs": [
    {
     "data": {
      "text/html": [
       "<div>\n",
       "<style scoped>\n",
       "    .dataframe tbody tr th:only-of-type {\n",
       "        vertical-align: middle;\n",
       "    }\n",
       "\n",
       "    .dataframe tbody tr th {\n",
       "        vertical-align: top;\n",
       "    }\n",
       "\n",
       "    .dataframe thead th {\n",
       "        text-align: right;\n",
       "    }\n",
       "</style>\n",
       "<table border=\"1\" class=\"dataframe\">\n",
       "  <thead>\n",
       "    <tr style=\"text-align: right;\">\n",
       "      <th></th>\n",
       "      <th>distance_from_home</th>\n",
       "      <th>distance_from_last_transaction</th>\n",
       "      <th>ratio_to_median_purchase_price</th>\n",
       "      <th>repeat_retailer</th>\n",
       "      <th>used_chip</th>\n",
       "      <th>used_pin_number</th>\n",
       "      <th>online_order</th>\n",
       "      <th>fraud</th>\n",
       "    </tr>\n",
       "  </thead>\n",
       "  <tbody>\n",
       "    <tr>\n",
       "      <th>count</th>\n",
       "      <td>1.000010e+05</td>\n",
       "      <td>1.000010e+05</td>\n",
       "      <td>1.000010e+05</td>\n",
       "      <td>100001.000000</td>\n",
       "      <td>100001.000000</td>\n",
       "      <td>100001.000000</td>\n",
       "      <td>100001.000000</td>\n",
       "      <td>100001.000000</td>\n",
       "    </tr>\n",
       "    <tr>\n",
       "      <th>mean</th>\n",
       "      <td>5.250858e-17</td>\n",
       "      <td>-1.758576e-17</td>\n",
       "      <td>-9.908419e-17</td>\n",
       "      <td>0.882091</td>\n",
       "      <td>0.351066</td>\n",
       "      <td>0.103249</td>\n",
       "      <td>0.650663</td>\n",
       "      <td>0.087099</td>\n",
       "    </tr>\n",
       "    <tr>\n",
       "      <th>std</th>\n",
       "      <td>1.000005e+00</td>\n",
       "      <td>1.000005e+00</td>\n",
       "      <td>1.000005e+00</td>\n",
       "      <td>0.322502</td>\n",
       "      <td>0.477306</td>\n",
       "      <td>0.304285</td>\n",
       "      <td>0.476763</td>\n",
       "      <td>0.281982</td>\n",
       "    </tr>\n",
       "    <tr>\n",
       "      <th>min</th>\n",
       "      <td>-4.094359e-01</td>\n",
       "      <td>-2.055385e-01</td>\n",
       "      <td>-6.207046e-01</td>\n",
       "      <td>0.000000</td>\n",
       "      <td>0.000000</td>\n",
       "      <td>0.000000</td>\n",
       "      <td>0.000000</td>\n",
       "      <td>0.000000</td>\n",
       "    </tr>\n",
       "    <tr>\n",
       "      <th>25%</th>\n",
       "      <td>-3.504228e-01</td>\n",
       "      <td>-1.934542e-01</td>\n",
       "      <td>-4.610575e-01</td>\n",
       "      <td>1.000000</td>\n",
       "      <td>0.000000</td>\n",
       "      <td>0.000000</td>\n",
       "      <td>0.000000</td>\n",
       "      <td>0.000000</td>\n",
       "    </tr>\n",
       "    <tr>\n",
       "      <th>50%</th>\n",
       "      <td>-2.567597e-01</td>\n",
       "      <td>-1.647748e-01</td>\n",
       "      <td>-2.826374e-01</td>\n",
       "      <td>1.000000</td>\n",
       "      <td>0.000000</td>\n",
       "      <td>0.000000</td>\n",
       "      <td>1.000000</td>\n",
       "      <td>0.000000</td>\n",
       "    </tr>\n",
       "    <tr>\n",
       "      <th>75%</th>\n",
       "      <td>-1.479854e-02</td>\n",
       "      <td>-6.917863e-02</td>\n",
       "      <td>9.256471e-02</td>\n",
       "      <td>1.000000</td>\n",
       "      <td>1.000000</td>\n",
       "      <td>0.000000</td>\n",
       "      <td>1.000000</td>\n",
       "      <td>0.000000</td>\n",
       "    </tr>\n",
       "    <tr>\n",
       "      <th>max</th>\n",
       "      <td>7.023219e+01</td>\n",
       "      <td>8.819758e+01</td>\n",
       "      <td>9.093261e+01</td>\n",
       "      <td>1.000000</td>\n",
       "      <td>1.000000</td>\n",
       "      <td>1.000000</td>\n",
       "      <td>1.000000</td>\n",
       "      <td>1.000000</td>\n",
       "    </tr>\n",
       "  </tbody>\n",
       "</table>\n",
       "</div>"
      ],
      "text/plain": [
       "       distance_from_home  distance_from_last_transaction  \\\n",
       "count        1.000010e+05                    1.000010e+05   \n",
       "mean         5.250858e-17                   -1.758576e-17   \n",
       "std          1.000005e+00                    1.000005e+00   \n",
       "min         -4.094359e-01                   -2.055385e-01   \n",
       "25%         -3.504228e-01                   -1.934542e-01   \n",
       "50%         -2.567597e-01                   -1.647748e-01   \n",
       "75%         -1.479854e-02                   -6.917863e-02   \n",
       "max          7.023219e+01                    8.819758e+01   \n",
       "\n",
       "       ratio_to_median_purchase_price  repeat_retailer      used_chip  \\\n",
       "count                    1.000010e+05    100001.000000  100001.000000   \n",
       "mean                    -9.908419e-17         0.882091       0.351066   \n",
       "std                      1.000005e+00         0.322502       0.477306   \n",
       "min                     -6.207046e-01         0.000000       0.000000   \n",
       "25%                     -4.610575e-01         1.000000       0.000000   \n",
       "50%                     -2.826374e-01         1.000000       0.000000   \n",
       "75%                      9.256471e-02         1.000000       1.000000   \n",
       "max                      9.093261e+01         1.000000       1.000000   \n",
       "\n",
       "       used_pin_number   online_order          fraud  \n",
       "count    100001.000000  100001.000000  100001.000000  \n",
       "mean          0.103249       0.650663       0.087099  \n",
       "std           0.304285       0.476763       0.281982  \n",
       "min           0.000000       0.000000       0.000000  \n",
       "25%           0.000000       0.000000       0.000000  \n",
       "50%           0.000000       1.000000       0.000000  \n",
       "75%           0.000000       1.000000       0.000000  \n",
       "max           1.000000       1.000000       1.000000  "
      ]
     },
     "execution_count": 98,
     "metadata": {},
     "output_type": "execute_result"
    }
   ],
   "source": [
    "data1.describe()"
   ]
  },
  {
   "cell_type": "code",
   "execution_count": 63,
   "id": "a1887d4a",
   "metadata": {},
   "outputs": [
    {
     "data": {
      "text/html": [
       "<div>\n",
       "<style scoped>\n",
       "    .dataframe tbody tr th:only-of-type {\n",
       "        vertical-align: middle;\n",
       "    }\n",
       "\n",
       "    .dataframe tbody tr th {\n",
       "        vertical-align: top;\n",
       "    }\n",
       "\n",
       "    .dataframe thead th {\n",
       "        text-align: right;\n",
       "    }\n",
       "</style>\n",
       "<table border=\"1\" class=\"dataframe\">\n",
       "  <thead>\n",
       "    <tr style=\"text-align: right;\">\n",
       "      <th></th>\n",
       "      <th>distance_from_home</th>\n",
       "      <th>distance_from_last_transaction</th>\n",
       "      <th>ratio_to_median_purchase_price</th>\n",
       "      <th>repeat_retailer</th>\n",
       "      <th>used_chip</th>\n",
       "      <th>used_pin_number</th>\n",
       "      <th>online_order</th>\n",
       "      <th>fraud</th>\n",
       "    </tr>\n",
       "  </thead>\n",
       "  <tbody>\n",
       "    <tr>\n",
       "      <th>distance_from_home</th>\n",
       "      <td>1.000000</td>\n",
       "      <td>-0.002562</td>\n",
       "      <td>-0.000656</td>\n",
       "      <td>0.143589</td>\n",
       "      <td>-0.002928</td>\n",
       "      <td>0.002518</td>\n",
       "      <td>-0.000250</td>\n",
       "      <td>0.187143</td>\n",
       "    </tr>\n",
       "    <tr>\n",
       "      <th>distance_from_last_transaction</th>\n",
       "      <td>-0.002562</td>\n",
       "      <td>1.000000</td>\n",
       "      <td>0.000531</td>\n",
       "      <td>-0.006873</td>\n",
       "      <td>0.000282</td>\n",
       "      <td>0.001851</td>\n",
       "      <td>-0.001004</td>\n",
       "      <td>0.097031</td>\n",
       "    </tr>\n",
       "    <tr>\n",
       "      <th>ratio_to_median_purchase_price</th>\n",
       "      <td>-0.000656</td>\n",
       "      <td>0.000531</td>\n",
       "      <td>1.000000</td>\n",
       "      <td>-0.001365</td>\n",
       "      <td>-0.000684</td>\n",
       "      <td>0.001522</td>\n",
       "      <td>0.002817</td>\n",
       "      <td>0.441085</td>\n",
       "    </tr>\n",
       "    <tr>\n",
       "      <th>repeat_retailer</th>\n",
       "      <td>0.143589</td>\n",
       "      <td>-0.006873</td>\n",
       "      <td>-0.001365</td>\n",
       "      <td>1.000000</td>\n",
       "      <td>-0.002636</td>\n",
       "      <td>-0.002302</td>\n",
       "      <td>0.003510</td>\n",
       "      <td>-0.002201</td>\n",
       "    </tr>\n",
       "    <tr>\n",
       "      <th>used_chip</th>\n",
       "      <td>-0.002928</td>\n",
       "      <td>0.000282</td>\n",
       "      <td>-0.000684</td>\n",
       "      <td>-0.002636</td>\n",
       "      <td>1.000000</td>\n",
       "      <td>-0.000052</td>\n",
       "      <td>-0.001619</td>\n",
       "      <td>-0.062395</td>\n",
       "    </tr>\n",
       "    <tr>\n",
       "      <th>used_pin_number</th>\n",
       "      <td>0.002518</td>\n",
       "      <td>0.001851</td>\n",
       "      <td>0.001522</td>\n",
       "      <td>-0.002302</td>\n",
       "      <td>-0.000052</td>\n",
       "      <td>1.000000</td>\n",
       "      <td>0.000613</td>\n",
       "      <td>-0.101430</td>\n",
       "    </tr>\n",
       "    <tr>\n",
       "      <th>online_order</th>\n",
       "      <td>-0.000250</td>\n",
       "      <td>-0.001004</td>\n",
       "      <td>0.002817</td>\n",
       "      <td>0.003510</td>\n",
       "      <td>-0.001619</td>\n",
       "      <td>0.000613</td>\n",
       "      <td>1.000000</td>\n",
       "      <td>0.192707</td>\n",
       "    </tr>\n",
       "    <tr>\n",
       "      <th>fraud</th>\n",
       "      <td>0.187143</td>\n",
       "      <td>0.097031</td>\n",
       "      <td>0.441085</td>\n",
       "      <td>-0.002201</td>\n",
       "      <td>-0.062395</td>\n",
       "      <td>-0.101430</td>\n",
       "      <td>0.192707</td>\n",
       "      <td>1.000000</td>\n",
       "    </tr>\n",
       "  </tbody>\n",
       "</table>\n",
       "</div>"
      ],
      "text/plain": [
       "                                distance_from_home  \\\n",
       "distance_from_home                        1.000000   \n",
       "distance_from_last_transaction           -0.002562   \n",
       "ratio_to_median_purchase_price           -0.000656   \n",
       "repeat_retailer                           0.143589   \n",
       "used_chip                                -0.002928   \n",
       "used_pin_number                           0.002518   \n",
       "online_order                             -0.000250   \n",
       "fraud                                     0.187143   \n",
       "\n",
       "                                distance_from_last_transaction  \\\n",
       "distance_from_home                                   -0.002562   \n",
       "distance_from_last_transaction                        1.000000   \n",
       "ratio_to_median_purchase_price                        0.000531   \n",
       "repeat_retailer                                      -0.006873   \n",
       "used_chip                                             0.000282   \n",
       "used_pin_number                                       0.001851   \n",
       "online_order                                         -0.001004   \n",
       "fraud                                                 0.097031   \n",
       "\n",
       "                                ratio_to_median_purchase_price  \\\n",
       "distance_from_home                                   -0.000656   \n",
       "distance_from_last_transaction                        0.000531   \n",
       "ratio_to_median_purchase_price                        1.000000   \n",
       "repeat_retailer                                      -0.001365   \n",
       "used_chip                                            -0.000684   \n",
       "used_pin_number                                       0.001522   \n",
       "online_order                                          0.002817   \n",
       "fraud                                                 0.441085   \n",
       "\n",
       "                                repeat_retailer  used_chip  used_pin_number  \\\n",
       "distance_from_home                     0.143589  -0.002928         0.002518   \n",
       "distance_from_last_transaction        -0.006873   0.000282         0.001851   \n",
       "ratio_to_median_purchase_price        -0.001365  -0.000684         0.001522   \n",
       "repeat_retailer                        1.000000  -0.002636        -0.002302   \n",
       "used_chip                             -0.002636   1.000000        -0.000052   \n",
       "used_pin_number                       -0.002302  -0.000052         1.000000   \n",
       "online_order                           0.003510  -0.001619         0.000613   \n",
       "fraud                                 -0.002201  -0.062395        -0.101430   \n",
       "\n",
       "                                online_order     fraud  \n",
       "distance_from_home                 -0.000250  0.187143  \n",
       "distance_from_last_transaction     -0.001004  0.097031  \n",
       "ratio_to_median_purchase_price      0.002817  0.441085  \n",
       "repeat_retailer                     0.003510 -0.002201  \n",
       "used_chip                          -0.001619 -0.062395  \n",
       "used_pin_number                     0.000613 -0.101430  \n",
       "online_order                        1.000000  0.192707  \n",
       "fraud                               0.192707  1.000000  "
      ]
     },
     "execution_count": 63,
     "metadata": {},
     "output_type": "execute_result"
    }
   ],
   "source": [
    "corr = data1.corr()\n",
    "corr"
   ]
  },
  {
   "cell_type": "code",
   "execution_count": 64,
   "id": "cda5cda5",
   "metadata": {
    "scrolled": true
   },
   "outputs": [
    {
     "data": {
      "text/plain": [
       "<Axes: >"
      ]
     },
     "execution_count": 64,
     "metadata": {},
     "output_type": "execute_result"
    },
    {
     "data": {
      "image/png": "[encoded data removed]",
      "text/plain": [
       "<Figure size 640x480 with 2 Axes>"
      ]
     },
     "metadata": {},
     "output_type": "display_data"
    }
   ],
   "source": [
    "sns.heatmap(corr)"
   ]
  },
  {
   "cell_type": "code",
   "execution_count": 65,
   "id": "ca8df98b",
   "metadata": {},
   "outputs": [],
   "source": [
    "# the best correlation happened between (ratio to median purchase price)(feature) and fraud(target variable)."
   ]
  },
  {
   "cell_type": "code",
   "execution_count": 66,
   "id": "cde8826f",
   "metadata": {},
   "outputs": [],
   "source": [
    "# lets import the libraries and split the data\n",
    "\n",
    "from sklearn.model_selection import train_test_split\n",
    "xtrain,xtest,ytrain,ytest = train_test_split(data1.iloc[:,0:8],data1['fraud'],test_size = 0.2,random_state = 42)"
   ]
  },
  {
   "cell_type": "code",
   "execution_count": 67,
   "id": "af556166",
   "metadata": {},
   "outputs": [
    {
     "data": {
      "text/html": [
       "<style>#sk-container-id-1 {color: black;}#sk-container-id-1 pre{padding: 0;}#sk-container-id-1 div.sk-toggleable {background-color: white;}#sk-container-id-1 label.sk-toggleable__label {cursor: pointer;display: block;width: 100%;margin-bottom: 0;padding: 0.3em;box-sizing: border-box;text-align: center;}#sk-container-id-1 label.sk-toggleable__label-arrow:before {content: \"▸\";float: left;margin-right: 0.25em;color: #696969;}#sk-container-id-1 label.sk-toggleable__label-arrow:hover:before {color: black;}#sk-container-id-1 div.sk-estimator:hover label.sk-toggleable__label-arrow:before {color: black;}#sk-container-id-1 div.sk-toggleable__content {max-height: 0;max-width: 0;overflow: hidden;text-align: left;background-color: #f0f8ff;}#sk-container-id-1 div.sk-toggleable__content pre {margin: 0.2em;color: black;border-radius: 0.25em;background-color: #f0f8ff;}#sk-container-id-1 input.sk-toggleable__control:checked~div.sk-toggleable__content {max-height: 200px;max-width: 100%;overflow: auto;}#sk-container-id-1 input.sk-toggleable__control:checked~label.sk-toggleable__label-arrow:before {content: \"▾\";}#sk-container-id-1 div.sk-estimator input.sk-toggleable__control:checked~label.sk-toggleable__label {background-color: #d4ebff;}#sk-container-id-1 div.sk-label input.sk-toggleable__control:checked~label.sk-toggleable__label {background-color: #d4ebff;}#sk-container-id-1 input.sk-hidden--visually {border: 0;clip: rect(1px 1px 1px 1px);clip: rect(1px, 1px, 1px, 1px);height: 1px;margin: -1px;overflow: hidden;padding: 0;position: absolute;width: 1px;}#sk-container-id-1 div.sk-estimator {font-family: monospace;background-color: #f0f8ff;border: 1px dotted black;border-radius: 0.25em;box-sizing: border-box;margin-bottom: 0.5em;}#sk-container-id-1 div.sk-estimator:hover {background-color: #d4ebff;}#sk-container-id-1 div.sk-parallel-item::after {content: \"\";width: 100%;border-bottom: 1px solid gray;flex-grow: 1;}#sk-container-id-1 div.sk-label:hover label.sk-toggleable__label {background-color: #d4ebff;}#sk-container-id-1 div.sk-serial::before {content: \"\";position: absolute;border-left: 1px solid gray;box-sizing: border-box;top: 0;bottom: 0;left: 50%;z-index: 0;}#sk-container-id-1 div.sk-serial {display: flex;flex-direction: column;align-items: center;background-color: white;padding-right: 0.2em;padding-left: 0.2em;position: relative;}#sk-container-id-1 div.sk-item {position: relative;z-index: 1;}#sk-container-id-1 div.sk-parallel {display: flex;align-items: stretch;justify-content: center;background-color: white;position: relative;}#sk-container-id-1 div.sk-item::before, #sk-container-id-1 div.sk-parallel-item::before {content: \"\";position: absolute;border-left: 1px solid gray;box-sizing: border-box;top: 0;bottom: 0;left: 50%;z-index: -1;}#sk-container-id-1 div.sk-parallel-item {display: flex;flex-direction: column;z-index: 1;position: relative;background-color: white;}#sk-container-id-1 div.sk-parallel-item:first-child::after {align-self: flex-end;width: 50%;}#sk-container-id-1 div.sk-parallel-item:last-child::after {align-self: flex-start;width: 50%;}#sk-container-id-1 div.sk-parallel-item:only-child::after {width: 0;}#sk-container-id-1 div.sk-dashed-wrapped {border: 1px dashed gray;margin: 0 0.4em 0.5em 0.4em;box-sizing: border-box;padding-bottom: 0.4em;background-color: white;}#sk-container-id-1 div.sk-label label {font-family: monospace;font-weight: bold;display: inline-block;line-height: 1.2em;}#sk-container-id-1 div.sk-label-container {text-align: center;}#sk-container-id-1 div.sk-container {/* jupyter's `normalize.less` sets `[hidden] { display: none; }` but bootstrap.min.css set `[hidden] { display: none !important; }` so we also need the `!important` here to be able to override the default hidden behavior on the sphinx rendered scikit-learn.org. See: https://github.com/scikit-learn/scikit-learn/issues/21755 */display: inline-block !important;position: relative;}#sk-container-id-1 div.sk-text-repr-fallback {display: none;}</style><div id=\"sk-container-id-1\" class=\"sk-top-container\"><div class=\"sk-text-repr-fallback\"><pre>KNeighborsClassifier(n_neighbors=1)</pre><b>In a Jupyter environment, please rerun this cell to show the HTML representation or trust the notebook. <br />On GitHub, the HTML representation is unable to render, please try loading this page with nbviewer.org.</b></div><div class=\"sk-container\" hidden><div class=\"sk-item\"><div class=\"sk-estimator sk-toggleable\"><input class=\"sk-toggleable__control sk-hidden--visually\" id=\"sk-estimator-id-1\" type=\"checkbox\" checked><label for=\"sk-estimator-id-1\" class=\"sk-toggleable__label sk-toggleable__label-arrow\">KNeighborsClassifier</label><div class=\"sk-toggleable__content\"><pre>KNeighborsClassifier(n_neighbors=1)</pre></div></div></div></div></div>"
      ],
      "text/plain": [
       "KNeighborsClassifier(n_neighbors=1)"
      ]
     },
     "execution_count": 67,
     "metadata": {},
     "output_type": "execute_result"
    }
   ],
   "source": [
    "# lets import the model and its performace indicators\n",
    "\n",
    "from sklearn.neighbors import KNeighborsClassifier\n",
    "knn = KNeighborsClassifier(n_neighbors = 1)\n",
    "knn.fit(xtrain,ytrain)"
   ]
  },
  {
   "cell_type": "code",
   "execution_count": 68,
   "id": "436c81c1",
   "metadata": {},
   "outputs": [],
   "source": [
    "y_pred = knn.predict(xtest)"
   ]
  },
  {
   "cell_type": "code",
   "execution_count": 69,
   "id": "896966c5",
   "metadata": {},
   "outputs": [],
   "source": [
    "from sklearn.metrics import accuracy_score\n",
    "from sklearn.metrics import precision_score\n",
    "from sklearn.metrics import confusion_matrix"
   ]
  },
  {
   "cell_type": "code",
   "execution_count": 70,
   "id": "c6b6afcf",
   "metadata": {},
   "outputs": [
    {
     "data": {
      "text/plain": [
       "0.9996500174991251"
      ]
     },
     "execution_count": 70,
     "metadata": {},
     "output_type": "execute_result"
    }
   ],
   "source": [
    "accuracy_score(ytest,y_pred)"
   ]
  },
  {
   "cell_type": "code",
   "execution_count": 71,
   "id": "36070f4e",
   "metadata": {},
   "outputs": [
    {
     "data": {
      "text/plain": [
       "0.9982384028185555"
      ]
     },
     "execution_count": 71,
     "metadata": {},
     "output_type": "execute_result"
    }
   ],
   "source": [
    "precision_score(ytest,y_pred)"
   ]
  },
  {
   "cell_type": "code",
   "execution_count": 72,
   "id": "09b45588",
   "metadata": {},
   "outputs": [
    {
     "data": {
      "text/plain": [
       "array([[18294,     3],\n",
       "       [    4,  1700]], dtype=int64)"
      ]
     },
     "execution_count": 72,
     "metadata": {},
     "output_type": "execute_result"
    }
   ],
   "source": [
    "cm =confusion_matrix(ytest,y_pred)\n",
    "cm"
   ]
  },
  {
   "cell_type": "code",
   "execution_count": 73,
   "id": "35a880ed",
   "metadata": {},
   "outputs": [
    {
     "data": {
      "text/plain": [
       "<Axes: >"
      ]
     },
     "execution_count": 73,
     "metadata": {},
     "output_type": "execute_result"
    },
    {
     "data": {
      "image/png": "[encoded data removed]",
      "text/plain": [
       "<Figure size 640x480 with 2 Axes>"
      ]
     },
     "metadata": {},
     "output_type": "display_data"
    }
   ],
   "source": [
    "sns.heatmap(cm,annot=True,cmap='Blues')"
   ]
  },
  {
   "cell_type": "markdown",
   "id": "3cdafb0f",
   "metadata": {},
   "source": [
    "### It tells that 18000 non_fruad values are true positive which are considered as fruad and 1700 values are true negative which are considered as fruad. 4 values are called false positives as these 4 values are wrongly placed in (the non-fraud) category whereas 3 are called false negatives as these points are wrongly placed in (the fraud) category."
   ]
  },
  {
   "cell_type": "code",
   "execution_count": 74,
   "id": "aa5f7951",
   "metadata": {},
   "outputs": [],
   "source": [
    "# let check the error through accuracy value using different values of K.\n",
    "\n",
    "# lets train the model.\n",
    "kvalues = [i for i in range(1,11)]\n",
    "def funct(numbers,x_training,y_training,x_testing,y_testing):\n",
    "        accuracy = []\n",
    "        for n in numbers:\n",
    "            c1 = KNeighborsClassifier(n_neighbors = n)\n",
    "            c1.fit(x_training,y_training)\n",
    "            accuracy.append(accuracy_score(y_testing,c1.predict(x_testing),normalize=True))\n",
    "        return accuracy"
   ]
  },
  {
   "cell_type": "code",
   "execution_count": 75,
   "id": "d15cf0e5",
   "metadata": {
    "scrolled": true
   },
   "outputs": [
    {
     "data": {
      "text/plain": [
       "[0.9996500174991251,\n",
       " 0.999550022498875,\n",
       " 0.999550022498875,\n",
       " 0.999550022498875,\n",
       " 0.9996500174991251,\n",
       " 0.9996000199990001,\n",
       " 0.999550022498875,\n",
       " 0.999550022498875,\n",
       " 0.9996000199990001,\n",
       " 0.9996000199990001]"
      ]
     },
     "execution_count": 75,
     "metadata": {},
     "output_type": "execute_result"
    }
   ],
   "source": [
    "output = funct(kvalues,xtrain,ytrain,xtest,ytest)\n",
    "output"
   ]
  },
  {
   "cell_type": "code",
   "execution_count": 76,
   "id": "6862ffec",
   "metadata": {
    "scrolled": true
   },
   "outputs": [
    {
     "data": {
      "text/plain": [
       "<Axes: >"
      ]
     },
     "execution_count": 76,
     "metadata": {},
     "output_type": "execute_result"
    },
    {
     "data": {
      "image/png": "[encoded data removed]",
      "text/plain": [
       "<Figure size 640x480 with 1 Axes>"
      ]
     },
     "metadata": {},
     "output_type": "display_data"
    }
   ],
   "source": [
    "sns.lineplot(x = kvalues,y =output)"
   ]
  },
  {
   "cell_type": "code",
   "execution_count": 77,
   "id": "ec39a753",
   "metadata": {},
   "outputs": [
    {
     "data": {
      "text/plain": [
       "distance_from_home                 7.938698\n",
       "distance_from_last_transaction     6.960747\n",
       "ratio_to_median_purchase_price    10.283268\n",
       "repeat_retailer                    1.000000\n",
       "used_chip                          0.000000\n",
       "used_pin_number                    0.000000\n",
       "online_order                       1.000000\n",
       "fraud                              1.000000\n",
       "Name: 150007, dtype: float64"
      ]
     },
     "execution_count": 77,
     "metadata": {},
     "output_type": "execute_result"
    }
   ],
   "source": [
    "# lets predict any randon values on model to check the accuracy (row no 150007 are originally called fraud)\n",
    "x_2 = data.iloc[150007]\n",
    "x_2 "
   ]
  },
  {
   "cell_type": "code",
   "execution_count": 78,
   "id": "35b30154",
   "metadata": {},
   "outputs": [],
   "source": [
    "y2_pre = knn.predict([x_2])"
   ]
  },
  {
   "cell_type": "code",
   "execution_count": 79,
   "id": "e4af9621",
   "metadata": {},
   "outputs": [
    {
     "data": {
      "text/plain": [
       "1.0"
      ]
     },
     "execution_count": 79,
     "metadata": {},
     "output_type": "execute_result"
    }
   ],
   "source": [
    "y2_pre[0]  # 1 means fruad as it mentioned in original description in above output."
   ]
  },
  {
   "cell_type": "code",
   "execution_count": 80,
   "id": "a3f9ce0b",
   "metadata": {},
   "outputs": [],
   "source": [
    "# So the model has correctly predicted the provided input."
   ]
  },
  {
   "cell_type": "markdown",
   "id": "df84ad2b",
   "metadata": {},
   "source": [
    "### Overall, the model has well predicted the frauds, as it captured the true meaning of variables and gave us the prominent result."
   ]
  }
 ],
 "metadata": {
  "kernelspec": {
   "display_name": "Python 3 (ipykernel)",
   "language": "python",
   "name": "python3"
  },
  "language_info": {
   "codemirror_mode": {
    "name": "ipython",
    "version": 3
   },
   "file_extension": ".py",
   "mimetype": "text/x-python",
   "name": "python",
   "nbconvert_exporter": "python",
   "pygments_lexer": "ipython3",
   "version": "3.11.5"
  }
 },
 "nbformat": 4,
 "nbformat_minor": 5
}
